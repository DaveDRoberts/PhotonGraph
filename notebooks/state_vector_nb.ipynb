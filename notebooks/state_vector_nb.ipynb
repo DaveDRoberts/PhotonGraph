{
 "cells": [
  {
   "cell_type": "code",
   "execution_count": 8,
   "metadata": {},
   "outputs": [],
   "source": [
    "import numpy as np\n",
    "import photongraph as pg"
   ]
  },
  {
   "cell_type": "markdown",
   "metadata": {},
   "source": [
    "# Example: 4-Qubit Graph State"
   ]
  },
  {
   "cell_type": "code",
   "execution_count": 85,
   "metadata": {},
   "outputs": [],
   "source": [
    "d = 2\n",
    "n = 4\n",
    "\n",
    "all_plus = (1/np.sqrt(d**n))*np.ones(d**n, dtype='complex128') # Equal superposition state\n",
    "qgs = pg.utils.intra_qubit_gate_set(d**n)\n",
    "\n",
    "U = qgs['CZ_01'] @ qgs['CZ_02'] @ qgs['CZ_03']"
   ]
  },
  {
   "cell_type": "code",
   "execution_count": 86,
   "metadata": {},
   "outputs": [],
   "source": [
    "sv = pg.StateVector(n, d, all_plus)\n",
    "sv.evolve(U)"
   ]
  },
  {
   "cell_type": "code",
   "execution_count": 87,
   "metadata": {},
   "outputs": [
    {
     "data": {
      "image/png": "[encoded data removed]",
      "text/plain": [
       "<Figure size 700x700 with 1 Axes>"
      ]
     },
     "metadata": {},
     "output_type": "display_data"
    }
   ],
   "source": [
    "gs = pg.gs_from_sv(sv)\n",
    "gs.draw()"
   ]
  },
  {
   "cell_type": "code",
   "execution_count": 93,
   "metadata": {},
   "outputs": [
    {
     "data": {
      "text/plain": [
       "{0, 1, 2, 3}"
      ]
     },
     "execution_count": 93,
     "metadata": {},
     "output_type": "execute_result"
    }
   ],
   "source": [
    "gs.qudits"
   ]
  },
  {
   "cell_type": "code",
   "execution_count": 94,
   "metadata": {},
   "outputs": [
    {
     "data": {
      "text/plain": [
       "{0: [Edge({0, 3}, 1), Edge({0, 2}, 1), Edge({0, 1}, 1)],\n",
       " 3: [Edge({0, 3}, 1)],\n",
       " 2: [Edge({0, 2}, 1)],\n",
       " 1: [Edge({0, 1}, 1)]}"
      ]
     },
     "execution_count": 94,
     "metadata": {},
     "output_type": "execute_result"
    }
   ],
   "source": [
    "gs.incidence_dict"
   ]
  },
  {
   "cell_type": "code",
   "execution_count": 88,
   "metadata": {},
   "outputs": [
    {
     "data": {
      "text/plain": [
       "(0.5+0j)"
      ]
     },
     "execution_count": 88,
     "metadata": {},
     "output_type": "execute_result"
    }
   ],
   "source": [
    "sv2 = pg.StateVector(n, d, all_plus)\n",
    "sv.inner_product(sv2)"
   ]
  },
  {
   "cell_type": "markdown",
   "metadata": {},
   "source": [
    "# Example: Normalisation"
   ]
  },
  {
   "cell_type": "code",
   "execution_count": 92,
   "metadata": {},
   "outputs": [
    {
     "name": "stdout",
     "output_type": "stream",
     "text": [
      "|0 0 0 0> : (1+0j)\n",
      "|0 0 0 1> : (1+0j)\n",
      "|0 0 1 0> : (1+0j)\n",
      "|0 0 1 1> : (1+0j)\n",
      "|0 1 0 0> : (1+0j)\n",
      "|0 1 0 1> : (1+0j)\n",
      "|0 1 1 0> : (1+0j)\n",
      "|0 1 1 1> : (1+0j)\n",
      "|1 0 0 0> : (1+0j)\n",
      "|1 0 0 1> : (1+0j)\n",
      "|1 0 1 0> : (1+0j)\n",
      "|1 0 1 1> : (1+0j)\n",
      "|1 1 0 0> : (1+0j)\n",
      "|1 1 0 1> : (1+0j)\n",
      "|1 1 1 0> : (1+0j)\n",
      "|1 1 1 1> : (1+0j)\n",
      "\n",
      "False\n",
      "\n",
      "|0 0 0 0> : (0.25+0j)\n",
      "|0 0 0 1> : (0.25+0j)\n",
      "|0 0 1 0> : (0.25+0j)\n",
      "|0 0 1 1> : (0.25+0j)\n",
      "|0 1 0 0> : (0.25+0j)\n",
      "|0 1 0 1> : (0.25+0j)\n",
      "|0 1 1 0> : (0.25+0j)\n",
      "|0 1 1 1> : (0.25+0j)\n",
      "|1 0 0 0> : (0.25+0j)\n",
      "|1 0 0 1> : (0.25+0j)\n",
      "|1 0 1 0> : (0.25+0j)\n",
      "|1 0 1 1> : (0.25+0j)\n",
      "|1 1 0 0> : (0.25+0j)\n",
      "|1 1 0 1> : (0.25+0j)\n",
      "|1 1 1 0> : (0.25+0j)\n",
      "|1 1 1 1> : (0.25+0j)\n",
      "\n",
      "True\n"
     ]
    }
   ],
   "source": [
    "d = 2\n",
    "n = 4\n",
    "all_plus_un = np.ones(d**n, dtype='complex128')\n",
    "sv = pg.StateVector(n, d, all_plus_un)\n",
    "print(sv)\n",
    "print(sv.normalized)\n",
    "sv.normalize()\n",
    "print(\"\")\n",
    "print(sv)\n",
    "print(sv.normalized)"
   ]
  },
  {
   "cell_type": "markdown",
   "metadata": {},
   "source": [
    "# Example: 3 Ququart Graph State"
   ]
  },
  {
   "cell_type": "code",
   "execution_count": 95,
   "metadata": {},
   "outputs": [],
   "source": [
    "d = 4\n",
    "n = 3\n",
    "\n",
    "vector_d4_n3 = np.array([(0.125 + 0j), (0.125 + 0j), (0.125 + 0j), (0.125 + 0j),\n",
    "                         (0.125 + 0j), (-0.125 + 0j), (0.125 + 0j),\n",
    "                         (-0.125 + 0j),\n",
    "                         (0.125 + 0j), (0.125 + 0j), (0.125 + 0j), (0.125 + 0j),\n",
    "                         (0.125 + 0j), (-0.125 + 0j), (0.125 + 0j),\n",
    "                         (-0.125 + 0j),\n",
    "                         (0.125 + 0j), (0.125 + 0j), (0.125 + 0j), (0.125 + 0j),\n",
    "                         (0 + 0.125j), (-0.125 + 0j), (0 - 0.125j),\n",
    "                         (0.125 + 0j),\n",
    "                         (-0.125 + 0j), (0.125 + 0j), (-0.125 + 0j),\n",
    "                         (0.125 + 0j),\n",
    "                         (0 - 0.125j), (-0.125 + 0j), (0 + 0.125j),\n",
    "                         (0.125 + 0j),\n",
    "                         (0.125 + 0j), (0.125 + 0j), (0.125 + 0j), (0.125 + 0j),\n",
    "                         (-0.125 + 0j), (-0.125 + 0j), (-0.125 + 0j),\n",
    "                         (-0.125 + 0j),\n",
    "                         (0.125 + 0j), (0.125 + 0j), (0.125 + 0j), (0.125 + 0j),\n",
    "                         (-0.125 + 0j), (-0.125 + 0j), (-0.125 + 0j),\n",
    "                         (-0.125 + 0j),\n",
    "                         (0.125 + 0j), (0.125 + 0j), (0.125 + 0j), (0.125 + 0j),\n",
    "                         (0 - 0.125j), (-0.125 + 0j), (0 + 0.125j),\n",
    "                         (0.125 + 0j),\n",
    "                         (-0.125 + 0j), (0.125 + 0j), (-0.125 + 0j),\n",
    "                         (0.125 + 0j),\n",
    "                         (0 + 0.125j), (-0.125 + 0j), (0 - 0.125j),\n",
    "                         (0.125 + 0j)],\n",
    "                        dtype='complex128')"
   ]
  },
  {
   "cell_type": "code",
   "execution_count": 96,
   "metadata": {},
   "outputs": [
    {
     "name": "stdout",
     "output_type": "stream",
     "text": [
      "|0 0 0> : (0.125+0j)\n",
      "|0 0 1> : (0.125+0j)\n",
      "|0 0 2> : (0.125+0j)\n",
      "|0 0 3> : (0.125+0j)\n",
      "|0 1 0> : (0.125+0j)\n",
      "|0 1 1> : (-0.125+0j)\n",
      "|0 1 2> : (0.125+0j)\n",
      "|0 1 3> : (-0.125+0j)\n",
      "|0 2 0> : (0.125+0j)\n",
      "|0 2 1> : (0.125+0j)\n",
      "|0 2 2> : (0.125+0j)\n",
      "|0 2 3> : (0.125+0j)\n",
      "|0 3 0> : (0.125+0j)\n",
      "|0 3 1> : (-0.125+0j)\n",
      "|0 3 2> : (0.125+0j)\n",
      "|0 3 3> : (-0.125+0j)\n",
      "|1 0 0> : (0.125+0j)\n",
      "|1 0 1> : (0.125+0j)\n",
      "|1 0 2> : (0.125+0j)\n",
      "|1 0 3> : (0.125+0j)\n",
      "|1 1 0> : 0.125j\n",
      "|1 1 1> : (-0.125+0j)\n",
      "|1 1 2> : -0.125j\n",
      "|1 1 3> : (0.125+0j)\n",
      "|1 2 0> : (-0.125+0j)\n",
      "|1 2 1> : (0.125+0j)\n",
      "|1 2 2> : (-0.125+0j)\n",
      "|1 2 3> : (0.125+0j)\n",
      "|1 3 0> : -0.125j\n",
      "|1 3 1> : (-0.125+0j)\n",
      "|1 3 2> : 0.125j\n",
      "|1 3 3> : (0.125+0j)\n",
      "|2 0 0> : (0.125+0j)\n",
      "|2 0 1> : (0.125+0j)\n",
      "|2 0 2> : (0.125+0j)\n",
      "|2 0 3> : (0.125+0j)\n",
      "|2 1 0> : (-0.125+0j)\n",
      "|2 1 1> : (-0.125+0j)\n",
      "|2 1 2> : (-0.125+0j)\n",
      "|2 1 3> : (-0.125+0j)\n",
      "|2 2 0> : (0.125+0j)\n",
      "|2 2 1> : (0.125+0j)\n",
      "|2 2 2> : (0.125+0j)\n",
      "|2 2 3> : (0.125+0j)\n",
      "|2 3 0> : (-0.125+0j)\n",
      "|2 3 1> : (-0.125+0j)\n",
      "|2 3 2> : (-0.125+0j)\n",
      "|2 3 3> : (-0.125+0j)\n",
      "|3 0 0> : (0.125+0j)\n",
      "|3 0 1> : (0.125+0j)\n",
      "|3 0 2> : (0.125+0j)\n",
      "|3 0 3> : (0.125+0j)\n",
      "|3 1 0> : -0.125j\n",
      "|3 1 1> : (-0.125+0j)\n",
      "|3 1 2> : 0.125j\n",
      "|3 1 3> : (0.125+0j)\n",
      "|3 2 0> : (-0.125+0j)\n",
      "|3 2 1> : (0.125+0j)\n",
      "|3 2 2> : (-0.125+0j)\n",
      "|3 2 3> : (0.125+0j)\n",
      "|3 3 0> : 0.125j\n",
      "|3 3 1> : (-0.125+0j)\n",
      "|3 3 2> : -0.125j\n",
      "|3 3 3> : (0.125+0j)\n",
      "\n"
     ]
    }
   ],
   "source": [
    "sv = pg.StateVector(n, d, vector_d4_n3)\n",
    "print(sv)"
   ]
  },
  {
   "cell_type": "code",
   "execution_count": 97,
   "metadata": {},
   "outputs": [
    {
     "data": {
      "image/png": "[encoded data removed]",
      "text/plain": [
       "<Figure size 700x700 with 1 Axes>"
      ]
     },
     "metadata": {},
     "output_type": "display_data"
    }
   ],
   "source": [
    "gs = pg.gs_from_sv(sv)\n",
    "gs.draw()"
   ]
  }
 ],
 "metadata": {
  "kernelspec": {
   "display_name": "Python 3",
   "language": "python",
   "name": "python3"
  },
  "language_info": {
   "codemirror_mode": {
    "name": "ipython",
    "version": 3
   },
   "file_extension": ".py",
   "mimetype": "text/x-python",
   "name": "python",
   "nbconvert_exporter": "python",
   "pygments_lexer": "ipython3",
   "version": "3.8.0"
  }
 },
 "nbformat": 4,
 "nbformat_minor": 4
}
